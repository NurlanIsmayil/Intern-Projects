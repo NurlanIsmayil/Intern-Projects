{
 "cells": [
  {
   "cell_type": "code",
   "execution_count": 3,
   "id": "ca24ff08-87a1-41d0-8c73-bb166477e574",
   "metadata": {},
   "outputs": [],
   "source": [
    "#For this we need to import libraries\n",
    "import pandas as pd\n",
    "import os"
   ]
  },
  {
   "cell_type": "code",
   "execution_count": 4,
   "id": "741981b4-798e-4de4-a6b0-239d82c2d3e5",
   "metadata": {},
   "outputs": [
    {
     "name": "stdout",
     "output_type": "stream",
     "text": [
      "File Summary:\n",
      "Total number of rows: 48895\n",
      "Total number of columns: 16\n",
      "File size: 7077973 bytes\n"
     ]
    }
   ],
   "source": [
    "# The first we need to define the file path\n",
    "file_path = \"AB_NYC_2019.csv\"\n",
    "\n",
    "# Let's get the file size with bytes\n",
    "file_size = os.path.getsize(file_path)\n",
    "\n",
    "# We can use pandas to read the file\n",
    "df = pd.read_csv(file_path)\n",
    "\n",
    "# Let's get total number of rows and columns\n",
    "num_rows, num_cols = df.shape\n",
    "\n",
    "# Print summary\n",
    "print(\"File Summary:\")\n",
    "print(f\"Total number of rows: {num_rows}\")\n",
    "print(f\"Total number of columns: {num_cols}\")\n",
    "print(f\"File size: {file_size} bytes\")"
   ]
  },
  {
   "cell_type": "code",
   "execution_count": null,
   "id": "5f9075b2-9d71-408b-b137-c8816303ff88",
   "metadata": {},
   "outputs": [],
   "source": []
  }
 ],
 "metadata": {
  "kernelspec": {
   "display_name": "Python 3 (ipykernel)",
   "language": "python",
   "name": "python3"
  },
  "language_info": {
   "codemirror_mode": {
    "name": "ipython",
    "version": 3
   },
   "file_extension": ".py",
   "mimetype": "text/x-python",
   "name": "python",
   "nbconvert_exporter": "python",
   "pygments_lexer": "ipython3",
   "version": "3.9.13"
  }
 },
 "nbformat": 4,
 "nbformat_minor": 5
}
