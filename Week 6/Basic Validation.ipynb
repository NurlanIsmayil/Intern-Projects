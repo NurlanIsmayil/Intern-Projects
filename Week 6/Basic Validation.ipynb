{
 "cells": [
  {
   "cell_type": "markdown",
   "id": "b9682a65-0983-49da-b578-cf246b23fbd2",
   "metadata": {},
   "source": [
    "**First of all we need to install some libraries**"
   ]
  },
  {
   "cell_type": "code",
   "execution_count": 1,
   "id": "fe95b650-cde5-4db8-aec0-b10f31bea1d4",
   "metadata": {},
   "outputs": [
    {
     "name": "stdout",
     "output_type": "stream",
     "text": [
      "Requirement already satisfied: dask in c:\\users\\lenovo\\anaconda3\\lib\\site-packages (2022.7.0)\n",
      "Requirement already satisfied: cloudpickle>=1.1.1 in c:\\users\\lenovo\\anaconda3\\lib\\site-packages (from dask) (2.0.0)\n",
      "Requirement already satisfied: fsspec>=0.6.0 in c:\\users\\lenovo\\anaconda3\\lib\\site-packages (from dask) (2022.7.1)\n",
      "Requirement already satisfied: packaging>=20.0 in c:\\users\\lenovo\\anaconda3\\lib\\site-packages (from dask) (21.3)\n",
      "Requirement already satisfied: partd>=0.3.10 in c:\\users\\lenovo\\anaconda3\\lib\\site-packages (from dask) (1.2.0)\n",
      "Requirement already satisfied: pyyaml>=5.3.1 in c:\\users\\lenovo\\anaconda3\\lib\\site-packages (from dask) (6.0)\n",
      "Requirement already satisfied: toolz>=0.8.2 in c:\\users\\lenovo\\anaconda3\\lib\\site-packages (from dask) (0.11.2)\n",
      "Requirement already satisfied: pyparsing!=3.0.5,>=2.0.2 in c:\\users\\lenovo\\anaconda3\\lib\\site-packages (from packaging>=20.0->dask) (3.0.9)\n",
      "Requirement already satisfied: locket in c:\\users\\lenovo\\anaconda3\\lib\\site-packages (from partd>=0.3.10->dask) (1.0.0)\n",
      "Requirement already satisfied: modin in c:\\users\\lenovo\\anaconda3\\lib\\site-packages (0.20.1)\n",
      "Requirement already satisfied: pandas==1.5.3 in c:\\users\\lenovo\\anaconda3\\lib\\site-packages (from modin) (1.5.3)\n",
      "Requirement already satisfied: packaging in c:\\users\\lenovo\\anaconda3\\lib\\site-packages (from modin) (21.3)\n",
      "Requirement already satisfied: numpy>=1.18.5 in c:\\users\\lenovo\\anaconda3\\lib\\site-packages (from modin) (1.21.5)\n",
      "Requirement already satisfied: fsspec in c:\\users\\lenovo\\anaconda3\\lib\\site-packages (from modin) (2022.7.1)\n",
      "Requirement already satisfied: psutil in c:\\users\\lenovo\\anaconda3\\lib\\site-packages (from modin) (5.9.0)\n",
      "Requirement already satisfied: python-dateutil>=2.8.1 in c:\\users\\lenovo\\anaconda3\\lib\\site-packages (from pandas==1.5.3->modin) (2.8.2)\n",
      "Requirement already satisfied: pytz>=2020.1 in c:\\users\\lenovo\\anaconda3\\lib\\site-packages (from pandas==1.5.3->modin) (2022.1)\n",
      "Requirement already satisfied: pyparsing!=3.0.5,>=2.0.2 in c:\\users\\lenovo\\anaconda3\\lib\\site-packages (from packaging->modin) (3.0.9)\n",
      "Requirement already satisfied: six>=1.5 in c:\\users\\lenovo\\anaconda3\\lib\\site-packages (from python-dateutil>=2.8.1->pandas==1.5.3->modin) (1.16.0)\n",
      "Requirement already satisfied: ray in c:\\users\\lenovo\\anaconda3\\lib\\site-packages (2.4.0)\n",
      "Requirement already satisfied: attrs in c:\\users\\lenovo\\anaconda3\\lib\\site-packages (from ray) (21.4.0)\n",
      "Requirement already satisfied: click>=7.0 in c:\\users\\lenovo\\anaconda3\\lib\\site-packages (from ray) (8.0.4)\n",
      "Requirement already satisfied: filelock in c:\\users\\lenovo\\anaconda3\\lib\\site-packages (from ray) (3.6.0)\n",
      "Requirement already satisfied: jsonschema in c:\\users\\lenovo\\anaconda3\\lib\\site-packages (from ray) (4.16.0)\n",
      "Requirement already satisfied: msgpack<2.0.0,>=1.0.0 in c:\\users\\lenovo\\anaconda3\\lib\\site-packages (from ray) (1.0.3)\n",
      "Requirement already satisfied: protobuf!=3.19.5,>=3.15.3 in c:\\users\\lenovo\\anaconda3\\lib\\site-packages (from ray) (4.22.4)\n",
      "Requirement already satisfied: pyyaml in c:\\users\\lenovo\\anaconda3\\lib\\site-packages (from ray) (6.0)\n",
      "Requirement already satisfied: aiosignal in c:\\users\\lenovo\\anaconda3\\lib\\site-packages (from ray) (1.3.1)\n",
      "Requirement already satisfied: frozenlist in c:\\users\\lenovo\\anaconda3\\lib\\site-packages (from ray) (1.3.3)\n",
      "Requirement already satisfied: requests in c:\\users\\lenovo\\anaconda3\\lib\\site-packages (from ray) (2.28.1)\n",
      "Requirement already satisfied: virtualenv<20.21.1,>=20.0.24 in c:\\users\\lenovo\\anaconda3\\lib\\site-packages (from ray) (20.21.0)\n",
      "Requirement already satisfied: grpcio<=1.51.3,>=1.32.0 in c:\\users\\lenovo\\anaconda3\\lib\\site-packages (from ray) (1.51.3)\n",
      "Requirement already satisfied: numpy>=1.19.3 in c:\\users\\lenovo\\anaconda3\\lib\\site-packages (from ray) (1.21.5)\n",
      "Requirement already satisfied: colorama in c:\\users\\lenovo\\anaconda3\\lib\\site-packages (from click>=7.0->ray) (0.4.5)\n",
      "Requirement already satisfied: distlib<1,>=0.3.6 in c:\\users\\lenovo\\anaconda3\\lib\\site-packages (from virtualenv<20.21.1,>=20.0.24->ray) (0.3.6)\n",
      "Requirement already satisfied: platformdirs<4,>=2.4 in c:\\users\\lenovo\\anaconda3\\lib\\site-packages (from virtualenv<20.21.1,>=20.0.24->ray) (2.5.2)\n",
      "Requirement already satisfied: pyrsistent!=0.17.0,!=0.17.1,!=0.17.2,>=0.14.0 in c:\\users\\lenovo\\anaconda3\\lib\\site-packages (from jsonschema->ray) (0.18.0)\n",
      "Requirement already satisfied: charset-normalizer<3,>=2 in c:\\users\\lenovo\\anaconda3\\lib\\site-packages (from requests->ray) (2.0.4)\n",
      "Requirement already satisfied: idna<4,>=2.5 in c:\\users\\lenovo\\anaconda3\\lib\\site-packages (from requests->ray) (3.3)\n",
      "Requirement already satisfied: urllib3<1.27,>=1.21.1 in c:\\users\\lenovo\\anaconda3\\lib\\site-packages (from requests->ray) (1.26.11)\n",
      "Requirement already satisfied: certifi>=2017.4.17 in c:\\users\\lenovo\\anaconda3\\lib\\site-packages (from requests->ray) (2022.9.14)\n",
      "Requirement already satisfied: PyYAML in c:\\users\\lenovo\\anaconda3\\lib\\site-packages (6.0)\n"
     ]
    }
   ],
   "source": [
    "!pip install dask\n",
    "!pip install modin\n",
    "!pip install PyYAML"
   ]
  },
  {
   "cell_type": "markdown",
   "id": "21efc588-1c72-4348-8513-8f860f61fb46",
   "metadata": {},
   "source": [
    "**Let's import some libraries**"
   ]
  },
  {
   "cell_type": "code",
   "execution_count": 4,
   "id": "57853c9b-9486-48a8-8ea4-5193d75aff20",
   "metadata": {},
   "outputs": [],
   "source": [
    "import pandas as pd\n",
    "import dask.dataframe as dd\n",
    "import modin.pandas as mpd\n",
    "import time"
   ]
  },
  {
   "cell_type": "markdown",
   "id": "4b552460-c63b-4d89-98fe-0a2e1418d048",
   "metadata": {},
   "source": [
    "**Now it is time to check which method is good to read the file efficiently** "
   ]
  },
  {
   "cell_type": "code",
   "execution_count": 8,
   "id": "a09d88ba-9b15-4038-bb52-65118269c8f6",
   "metadata": {},
   "outputs": [
    {
     "name": "stdout",
     "output_type": "stream",
     "text": [
      "Pandas read time: 0.3037374019622803\n"
     ]
    }
   ],
   "source": [
    "# Pandas\n",
    "start_time = time.time()\n",
    "df_pandas = pd.read_csv('AB_NYC_2019.csv')\n",
    "pandas_time = time.time() - start_time\n",
    "print(f\"Pandas read time: {pandas_time}\")"
   ]
  },
  {
   "cell_type": "code",
   "execution_count": 9,
   "id": "bd6da22b-2d4e-4c58-97db-02d1dfa5d6a3",
   "metadata": {},
   "outputs": [
    {
     "name": "stdout",
     "output_type": "stream",
     "text": [
      "Dask read time: 0.008010149002075195\n"
     ]
    }
   ],
   "source": [
    "# Dask\n",
    "start_time = time.time()\n",
    "df_dask = dd.read_csv('AB_NYC_2019.csv')\n",
    "dask_time = time.time() - start_time\n",
    "print(f\"Dask read time: {dask_time}\")"
   ]
  },
  {
   "cell_type": "code",
   "execution_count": 10,
   "id": "e8c02475-de65-4f1d-b788-f520160c3cda",
   "metadata": {},
   "outputs": [
    {
     "name": "stdout",
     "output_type": "stream",
     "text": [
      "Modin read time: 0.14404082298278809\n"
     ]
    }
   ],
   "source": [
    "# Modin\n",
    "start_time = time.time()\n",
    "df_modin = mpd.read_csv('AB_NYC_2019.csv')\n",
    "modin_time = time.time() - start_time\n",
    "print(f\"Modin read time: {modin_time}\")"
   ]
  },
  {
   "cell_type": "code",
   "execution_count": 11,
   "id": "4ef35218-9dc0-4fc4-b9c8-97c2f75313c9",
   "metadata": {},
   "outputs": [
    {
     "name": "stdout",
     "output_type": "stream",
     "text": [
      "Read time comparison:\n",
      "Pandas: 0.30s\n",
      "Dask: 0.01s\n",
      "Modin: 0.14s\n"
     ]
    }
   ],
   "source": [
    "# Now let's print out the time taken for each library to read the file\n",
    "print(\"Read time comparison:\")\n",
    "print(f\"Pandas: {pandas_time:.2f}s\")\n",
    "print(f\"Dask: {dask_time:.2f}s\")\n",
    "print(f\"Modin: {modin_time:.2f}s\")"
   ]
  },
  {
   "cell_type": "markdown",
   "id": "942244eb-bf78-492b-88b0-2016922d028d",
   "metadata": {},
   "source": [
    "### Now we can perform basic validation on data columns"
   ]
  },
  {
   "cell_type": "code",
   "execution_count": 12,
   "id": "403fe97f-8f25-4bbc-9307-0537f3e2d44d",
   "metadata": {},
   "outputs": [
    {
     "name": "stderr",
     "output_type": "stream",
     "text": [
      "FutureWarning: The default value of regex will change from True to False in a future version.\n"
     ]
    }
   ],
   "source": [
    "df_pandas.columns = df_pandas.columns.str.replace('[^\\w\\s]','').str.strip()"
   ]
  },
  {
   "cell_type": "markdown",
   "id": "08140ea8-f237-4c70-b3af-63ba5f1a0fd5",
   "metadata": {},
   "source": [
    "**Now let's create a YAML file for the expected column names and write the column names into it**"
   ]
  },
  {
   "cell_type": "code",
   "execution_count": 13,
   "id": "6a5f718d-7af5-44f4-8224-9509311f5f2b",
   "metadata": {},
   "outputs": [],
   "source": [
    "#Let's import yaml\n",
    "import yaml"
   ]
  },
  {
   "cell_type": "code",
   "execution_count": 14,
   "id": "1b591593-5195-485a-b0ad-bba84767987d",
   "metadata": {},
   "outputs": [],
   "source": [
    "expected_columns = list(df_pandas.columns)\n",
    "\n",
    "with open('column_names.yaml', 'w') as file:\n",
    "    yaml.dump(expected_columns, file)"
   ]
  },
  {
   "cell_type": "markdown",
   "id": "6bb5c6c9-1702-452a-b060-aec141936946",
   "metadata": {},
   "source": [
    "**Now let's validate the number of columns and column names of the ingested file with the YAML file**"
   ]
  },
  {
   "cell_type": "code",
   "execution_count": 15,
   "id": "e155d0ef-3ae2-4b3c-9e98-4cb15b92b521",
   "metadata": {},
   "outputs": [
    {
     "name": "stdout",
     "output_type": "stream",
     "text": [
      "All columns match the expected columns\n"
     ]
    }
   ],
   "source": [
    "with open('column_names.yaml', 'r') as file:\n",
    "    expected_columns = yaml.safe_load(file)\n",
    "\n",
    "if len(df_pandas.columns) != len(expected_columns):\n",
    "    print('The number of columns does not match the expected number')\n",
    "elif not all([col in df_pandas.columns for col in expected_columns]):\n",
    "    print('Some of the expected columns are missing')\n",
    "else:\n",
    "    print('All columns match the expected columns')"
   ]
  },
  {
   "cell_type": "code",
   "execution_count": null,
   "id": "e023369c-1203-4cf9-b93d-cdfd1d03ebc1",
   "metadata": {},
   "outputs": [],
   "source": []
  },
  {
   "cell_type": "markdown",
   "id": "67ecc117-7cb6-4e8a-9f40-e20e09d34de0",
   "metadata": {},
   "source": [
    "### Let's write the file in pipe-separated text format in GZ format using pandas"
   ]
  },
  {
   "cell_type": "code",
   "execution_count": 16,
   "id": "29d5a31b-0c5e-4291-ab5c-7fd99c3cca3f",
   "metadata": {},
   "outputs": [],
   "source": [
    "df_pandas.to_csv('AB_NYC_2019_pipe.gz', sep='|', compression='gzip', index=False)"
   ]
  },
  {
   "cell_type": "code",
   "execution_count": null,
   "id": "01512501-32c8-41c4-86c0-cfbedd86b6f2",
   "metadata": {},
   "outputs": [],
   "source": []
  },
  {
   "cell_type": "code",
   "execution_count": null,
   "id": "57325695-9466-47ac-b042-f55a88acd64b",
   "metadata": {},
   "outputs": [],
   "source": []
  }
 ],
 "metadata": {
  "kernelspec": {
   "display_name": "Python 3 (ipykernel)",
   "language": "python",
   "name": "python3"
  },
  "language_info": {
   "codemirror_mode": {
    "name": "ipython",
    "version": 3
   },
   "file_extension": ".py",
   "mimetype": "text/x-python",
   "name": "python",
   "nbconvert_exporter": "python",
   "pygments_lexer": "ipython3",
   "version": "3.9.13"
  }
 },
 "nbformat": 4,
 "nbformat_minor": 5
}
